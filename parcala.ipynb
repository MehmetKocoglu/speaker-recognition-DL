{
 "cells": [
  {
   "cell_type": "code",
   "execution_count": 1,
   "id": "0cdceedf-2f98-4d57-bbe2-1851fe11d5b5",
   "metadata": {},
   "outputs": [
    {
     "name": "stderr",
     "output_type": "stream",
     "text": [
      "C:\\Users\\tahat\\anaconda3\\Lib\\site-packages\\pydub\\utils.py:170: RuntimeWarning: Couldn't find ffmpeg or avconv - defaulting to ffmpeg, but may not work\n",
      "  warn(\"Couldn't find ffmpeg or avconv - defaulting to ffmpeg, but may not work\", RuntimeWarning)\n"
     ]
    }
   ],
   "source": [
    "from pydub import AudioSegment\n",
    "import os\n"
   ]
  },
  {
   "cell_type": "code",
   "execution_count": 18,
   "id": "b1d92810-a741-4793-9adf-584b7178ca2c",
   "metadata": {},
   "outputs": [
    {
     "name": "stdout",
     "output_type": "stream",
     "text": [
      "An error occurred: [WinError 2] Sistem belirtilen dosyayı bulamıyor\n"
     ]
    },
    {
     "name": "stderr",
     "output_type": "stream",
     "text": [
      "C:\\Users\\tahat\\anaconda3\\Lib\\site-packages\\pydub\\utils.py:198: RuntimeWarning: Couldn't find ffprobe or avprobe - defaulting to ffprobe, but may not work\n",
      "  warn(\"Couldn't find ffprobe or avprobe - defaulting to ffprobe, but may not work\", RuntimeWarning)\n"
     ]
    }
   ],
   "source": [
    "def convert_m4a_to_wav(m4a_file_path, wav_file_path):\n",
    "    try:\n",
    "        # Ensure the input file exists\n",
    "        if not os.path.isfile(m4a_file_path):\n",
    "            raise FileNotFoundError(f\"Input file '{m4a_file_path}' not found.\")\n",
    "        \n",
    "        # Load the M4A file\n",
    "        audio = AudioSegment.from_file(m4a_file_path, format='m4a')\n",
    "        \n",
    "        # Export as WAV\n",
    "        audio.export(wav_file_path, format='wav')\n",
    "        print(f\"Successfully converted '{m4a_file_path}' to '{wav_file_path}'.\")\n",
    "    \n",
    "    except Exception as e:\n",
    "        print(f\"An error occurred: {e}\")\n",
    "\n",
    "# Example usage\n",
    "m4a_file = \"C:\\\\Users\\\\tahat\\\\deeplearning-workspace\\\\speaker-recognition\\\\tahakocer20.m4a\"\n",
    "wav_file = 'tahakocer20.wav'\n",
    "convert_m4a_to_wav(m4a_file, wav_file)"
   ]
  },
  {
   "cell_type": "code",
   "execution_count": 24,
   "id": "30b7f000-5a04-41a9-b813-b99dd6fc3199",
   "metadata": {},
   "outputs": [
    {
     "name": "stdout",
     "output_type": "stream",
     "text": [
      "1203\n",
      "Audio split into 1204 chunks of 1.0 seconds each.\n",
      "1207\n",
      "Audio split into 1208 chunks of 1.0 seconds each.\n"
     ]
    }
   ],
   "source": [
    "def split_audio(file_path, output_folder, chunk_length=1000):\n",
    "    # Load the audio file\n",
    "    audio = AudioSegment.from_file(file_path)\n",
    "    \n",
    "    # Create output folder if it doesn't exist\n",
    "    if not os.path.exists(output_folder):\n",
    "        os.makedirs(output_folder)\n",
    "    \n",
    "    # Calculate number of chunks\n",
    "    total_length = len(audio)\n",
    "    number_of_chunks = total_length // chunk_length\n",
    "    print(number_of_chunks)\n",
    "\n",
    "    for i in range(number_of_chunks):\n",
    "        start = i * chunk_length\n",
    "        end = start + chunk_length\n",
    "        chunk = audio[start:end]\n",
    "        \n",
    "        # Export the chunk as a new file\n",
    "        chunk_name = os.path.join(output_folder, f\"chunk_{i}.wav\")\n",
    "        chunk.export(chunk_name, format=\"wav\")\n",
    "        \n",
    "    # If there is a remaining part of the audio that is less than chunk_length\n",
    "    if total_length % chunk_length != 0:\n",
    "        chunk = audio[number_of_chunks * chunk_length:] \n",
    "        chunk_name = os.path.join(output_folder, f\"chunk_{number_of_chunks}.wav\")\n",
    "        chunk.export(chunk_name, format=\"wav\")\n",
    "        \n",
    "    print(f\"Audio split into {number_of_chunks + 1} chunks of {chunk_length/1000} seconds each.\")\n",
    "\n",
    "# Example usage\n",
    "file_path = \"tahakocer20.wav\"  # Replace with your audio file path\n",
    "output_folder = \"parcali\\\\tahakocer\"   # Replace with your desired output folder\n",
    "split_audio(file_path, output_folder)\n",
    "\n",
    "# Example usage\n",
    "file_path = \"mehmetkocoglu20.wav\"  # Replace with your audio file path\n",
    "output_folder = \"parcali\\\\mehmetkocoglu\"   # Replace with your desired output folder\n",
    "split_audio(file_path, output_folder)"
   ]
  },
  {
   "cell_type": "code",
   "execution_count": 23,
   "id": "9b2bea71-cc08-4d56-8724-2d5b88af3ab0",
   "metadata": {},
   "outputs": [
    {
     "name": "stdout",
     "output_type": "stream",
     "text": [
      "Audio split into 301 chunks of 1.0 seconds each.\n",
      "Audio split into 301 chunks of 1.0 seconds each.\n"
     ]
    }
   ],
   "source": [
    "def split_audio(file_path, output_folder, chunk_length=1000):\n",
    "    # Load the audio file\n",
    "    audio = AudioSegment.from_file(file_path)\n",
    "    # Create output folder if it doesn't exist\n",
    "    if not os.path.exists(output_folder):\n",
    "        os.makedirs(output_folder)\n",
    "    \n",
    "    # Calculate number of chunks\n",
    "    total_length = len(audio)\n",
    "    number_of_chunks = total_length // chunk_length\n",
    "    number_of_chunks = 300\n",
    "    for i in range(number_of_chunks):\n",
    "        start = i * chunk_length\n",
    "        end = start + chunk_length\n",
    "        chunk = audio[start:end]\n",
    "        \n",
    "        # Export the chunk as a new file\n",
    "        chunk_name = os.path.join(output_folder, f\"chunk_{i+1201}.wav\")\n",
    "        chunk.export(chunk_name, format=\"wav\")\n",
    "        \n",
    "    # If there is a remaining part of the audio that is less than chunk_length\n",
    "    if total_length % chunk_length != 0:\n",
    "        chunk = audio[number_of_chunks * chunk_length:] \n",
    "        chunk_name = os.path.join(output_folder, f\"chunk_{number_of_chunks+1201}.wav\")\n",
    "        chunk.export(chunk_name, format=\"wav\")\n",
    "        \n",
    "    print(f\"Audio split into {number_of_chunks + 1} chunks of {chunk_length/1000} seconds each.\")\n",
    "\n",
    "# Example usage\n",
    "file_path = \"tahakocer5.wav\"  # Replace with your audio file path\n",
    "output_folder = \"parcali\\\\tahakocer2\"   # Replace with your desired output folder\n",
    "split_audio(file_path, output_folder)\n",
    "\n",
    "# Example usage\n",
    "file_path = \"mehmetkocoglu5.wav\"  # Replace with your audio file path\n",
    "output_folder = \"parcali\\\\mehmetkocoglu2\"   # Replace with your desired output folder\n",
    "split_audio(file_path, output_folder)"
   ]
  },
  {
   "cell_type": "code",
   "execution_count": null,
   "id": "270c5d5a-ecfd-4ce5-8df3-97fa3fbe4e3b",
   "metadata": {},
   "outputs": [],
   "source": []
  }
 ],
 "metadata": {
  "kernelspec": {
   "display_name": "Python 3 (ipykernel)",
   "language": "python",
   "name": "python3"
  },
  "language_info": {
   "codemirror_mode": {
    "name": "ipython",
    "version": 3
   },
   "file_extension": ".py",
   "mimetype": "text/x-python",
   "name": "python",
   "nbconvert_exporter": "python",
   "pygments_lexer": "ipython3",
   "version": "3.11.5"
  }
 },
 "nbformat": 4,
 "nbformat_minor": 5
}
