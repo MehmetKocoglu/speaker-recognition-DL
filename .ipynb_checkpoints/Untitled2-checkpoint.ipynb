{
 "cells": [
  {
   "cell_type": "code",
   "execution_count": 6,
   "id": "25e053d9-2dba-4ff7-95b3-9283501e18b9",
   "metadata": {},
   "outputs": [
    {
     "name": "stderr",
     "output_type": "stream",
     "text": [
      "WARNING:absl:Compiled the loaded model, but the compiled metrics have yet to be built. `model.compile_metrics` will be empty until you train or evaluate the model.\n"
     ]
    },
    {
     "name": "stdout",
     "output_type": "stream",
     "text": [
      "Lütfen konuşun...\n",
      "Kayıt tamamlandı.\n",
      "\u001b[1m1/1\u001b[0m \u001b[32m━━━━━━━━━━━━━━━━━━━━\u001b[0m\u001b[37m\u001b[0m \u001b[1m0s\u001b[0m 164ms/step\n",
      "Tahmin edilen sanatçılar ve olasılıkları:\n",
      "mehmetkocoglu: 0.65\n",
      "tahakocer: 0.35\n"
     ]
    }
   ],
   "source": [
    "import sounddevice as sd\n",
    "import numpy as np\n",
    "import librosa\n",
    "from tensorflow.keras.models import load_model\n",
    "\n",
    "# Modelin yüklenmesi\n",
    "model = load_model('model.h5')  # Eğitilmiş modelin dosya yolu\n",
    "\n",
    "# Ses verisini önceden belirlenmiş özelliklere dönüştüren fonksiyon\n",
    "def extract_features(sound_signal, sample_rate):\n",
    "    mfcc_features = librosa.feature.mfcc(y=sound_signal, sr=sample_rate, n_mfcc=13)\n",
    "    # Reshape the MFCCs to match the input shape of the model\n",
    "    mfccs_scaled_features = mfcc_features.T  # Transpose to get shape (frames, n_mfcc)\n",
    "    return mfccs_scaled_features\n",
    "\n",
    "# Mikrofondan ses verisi almak için gerekli parametreler\n",
    "RATE = 44100\n",
    "DURATION = 5  # Kayıt süresi (saniye)\n",
    "\n",
    "# Ses yakalama işlemi\n",
    "print(\"Lütfen konuşun...\")\n",
    "sound_signal = sd.rec(int(DURATION * RATE), samplerate=RATE, channels=1, dtype='float32')\n",
    "sd.wait()  # Ses yakalamanın tamamlanmasını bekleyin\n",
    "print(\"Kayıt tamamlandı.\")\n",
    "\n",
    "# Ses verisinin özelliklere dönüştürülmesi\n",
    "mfccs_scaled_features = extract_features(np.squeeze(sound_signal), RATE)\n",
    "\n",
    "# Reshape the features to include the batch dimension and ensure correct input shape\n",
    "mfccs_scaled_features = mfccs_scaled_features[np.newaxis, ...]\n",
    "\n",
    "# Modelin kullanılması ve sonucun alınması\n",
    "result_array = model.predict(mfccs_scaled_features)\n",
    "result_classes = [\"mehmetkocoglu\", \"tahakocer\"]\n",
    "\n",
    "# Tahmin edilen sanatçıları ve olasılıklarını gösterme\n",
    "predicted_artist_indices = np.argsort(result_array[0])[::-1]  # Olasılıklara göre sıralanmış tahmin edilen sınıf indisleri\n",
    "\n",
    "print(\"Tahmin edilen sanatçılar ve olasılıkları:\")\n",
    "for index in predicted_artist_indices:\n",
    "    predicted_artist = result_classes[index]\n",
    "    probability = result_array[0][index]\n",
    "    print(f\"{predicted_artist}: {probability:.2f}\")"
   ]
  },
  {
   "cell_type": "code",
   "execution_count": null,
   "id": "8a3f10b6-6643-42b0-b16e-0d97952bfe0c",
   "metadata": {},
   "outputs": [],
   "source": []
  }
 ],
 "metadata": {
  "kernelspec": {
   "display_name": "Python 3 (ipykernel)",
   "language": "python",
   "name": "python3"
  },
  "language_info": {
   "codemirror_mode": {
    "name": "ipython",
    "version": 3
   },
   "file_extension": ".py",
   "mimetype": "text/x-python",
   "name": "python",
   "nbconvert_exporter": "python",
   "pygments_lexer": "ipython3",
   "version": "3.11.5"
  }
 },
 "nbformat": 4,
 "nbformat_minor": 5
}
