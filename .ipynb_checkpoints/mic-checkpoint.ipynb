{
 "cells": [
  {
   "cell_type": "code",
   "execution_count": 16,
   "id": "21a0194c-c6dc-4e59-9c2c-ac9536fc8775",
   "metadata": {},
   "outputs": [
    {
     "name": "stderr",
     "output_type": "stream",
     "text": [
      "WARNING:absl:Compiled the loaded model, but the compiled metrics have yet to be built. `model.compile_metrics` will be empty until you train or evaluate the model.\n"
     ]
    },
    {
     "name": "stdout",
     "output_type": "stream",
     "text": [
      "Konuşmanızı bekliyorum...\n",
      "Mikrofon Metin: video çekerim Bakayım kanka yapacak bir şey yok modeli yani iyi çekmiyor ağlamışım yazmış\n",
      "\u001b[1m1/1\u001b[0m \u001b[32m━━━━━━━━━━━━━━━━━━━━\u001b[0m\u001b[37m\u001b[0m \u001b[1m0s\u001b[0m 348ms/step\n",
      "Kelime Sayısı: 14\n",
      "Tahmin edilen kişiler ve olasılıkları:\n",
      "tahakocer: 0.95\n",
      "mehmetkocoglu: 0.05\n"
     ]
    }
   ],
   "source": [
    "import sounddevice as sd\n",
    "import numpy as np\n",
    "import librosa\n",
    "import speech_recognition as sr\n",
    "from tensorflow.keras.models import load_model\n",
    "\n",
    "# Modelin yüklenmesi\n",
    "model = load_model('modelv3.h5')  # Eğitilmiş modelin dosya yolu\n",
    "\n",
    "def extract_features(sound_signal, sample_rate):\n",
    "    sound_signal = sound_signal.astype(np.float32)  # Ensure the audio data is in floating-point format\n",
    "    mfcc_features = librosa.feature.mfcc(y=sound_signal, sr=sample_rate, n_mfcc=13)\n",
    "    mfcc_features = librosa.util.normalize(mfcc_features)  # Normalizasyon ekleyin\n",
    "    pad_width = 44 - mfcc_features.shape[1]\n",
    "    if pad_width > 0:\n",
    "        mfccs_scaled_features = np.pad(mfcc_features, ((0, 0), (0, pad_width)), mode='constant')\n",
    "    else:\n",
    "        mfccs_scaled_features = mfcc_features[:, :44]  # Gerekiyorsa MFCC'lerin boyutunu kırp\n",
    "    return mfccs_scaled_features.reshape(1, 44, 13)\n",
    "\n",
    "# Mikrofondan ses verisi almak için gerekli parametreler\n",
    "RATE = 44100\n",
    "DURATION = 5  # Kayıt süresi (saniye)\n",
    "\n",
    "recognizer = sr.Recognizer()\n",
    "with sr.Microphone() as source:\n",
    "    print(\"Konuşmanızı bekliyorum...\")\n",
    "    audio_data = recognizer.listen(source)\n",
    "    try:\n",
    "        text = recognizer.recognize_google(audio_data, language='tr-TR')\n",
    "        print(\"Mikrofon Metin:\", text)\n",
    "        # Ses verisinin özelliklere dönüştürülmesi\n",
    "        audio_array = np.frombuffer(audio_data.get_raw_data(), np.int16).astype(np.float32)  # Convert audio data to float32\n",
    "        audio_array /= np.iinfo(np.int16).max  # Normalize to range [-1, 1]\n",
    "        mfccs_scaled_features = extract_features(audio_array, RATE)\n",
    "        # Modelin kullanılması ve sonucun alınması\n",
    "        result_array = model.predict(mfccs_scaled_features)\n",
    "        result_classes = ['mehmetkocoglu','tahakocer']\n",
    "        # Tahmin edilen sanatçıları ve olasılıklarını gösterme\n",
    "        predicted_artist_indices = np.argsort(result_array[0])[::-1]  # Olasılıklara göre sıralanmış tahmin edilen sınıf indisleri\n",
    "        word_count = len(text.split())\n",
    "        print(\"Kelime Sayısı:\", word_count)\n",
    "    except sr.UnknownValueError:\n",
    "        print(\"Google Web Speech herhangi bir şey anlamadı\")\n",
    "    except sr.RequestError as e:\n",
    "        print(f\"Google Web Speech hizmetinden sonuç alınamadı; {e}\")\n",
    "\n",
    "print(\"Tahmin edilen kişiler ve olasılıkları:\")\n",
    "for index in predicted_artist_indices:\n",
    "    predicted_artist = result_classes[index]\n",
    "    probability = result_array[0][index]\n",
    "    print(f\"{predicted_artist}: {probability:.2f}\")\n"
   ]
  },
  {
   "cell_type": "code",
   "execution_count": null,
   "id": "1e32b853-6072-4585-a1d0-597a269058a5",
   "metadata": {},
   "outputs": [],
   "source": []
  },
  {
   "cell_type": "code",
   "execution_count": null,
   "id": "eb0d8226-04a4-4d56-a08e-b592798f49a5",
   "metadata": {},
   "outputs": [],
   "source": []
  }
 ],
 "metadata": {
  "kernelspec": {
   "display_name": "Python 3 (ipykernel)",
   "language": "python",
   "name": "python3"
  },
  "language_info": {
   "codemirror_mode": {
    "name": "ipython",
    "version": 3
   },
   "file_extension": ".py",
   "mimetype": "text/x-python",
   "name": "python",
   "nbconvert_exporter": "python",
   "pygments_lexer": "ipython3",
   "version": "3.11.5"
  }
 },
 "nbformat": 4,
 "nbformat_minor": 5
}
