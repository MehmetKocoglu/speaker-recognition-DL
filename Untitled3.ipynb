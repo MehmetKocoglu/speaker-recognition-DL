{
 "cells": [
  {
   "cell_type": "code",
   "execution_count": 2,
   "id": "7d6b7ee5-fa63-4046-a2c0-62ff05139c1c",
   "metadata": {},
   "outputs": [
    {
     "name": "stdout",
     "output_type": "stream",
     "text": [
      "Audio split into 311 chunks of 1.0 seconds each.\n"
     ]
    }
   ],
   "source": [
    "from pydub import AudioSegment\n",
    "import os\n",
    "\n",
    "def split_audio(file_path, output_folder, chunk_length=1000):\n",
    "    # Load the audio file\n",
    "    audio = AudioSegment.from_file(file_path)\n",
    "    \n",
    "    # Create output folder if it doesn't exist\n",
    "    if not os.path.exists(output_folder):\n",
    "        os.makedirs(output_folder)\n",
    "    \n",
    "    # Calculate number of chunks\n",
    "    total_length = len(audio)\n",
    "    number_of_chunks = total_length // chunk_length\n",
    "    \n",
    "    for i in range(number_of_chunks):\n",
    "        start = i * chunk_length\n",
    "        end = start + chunk_length\n",
    "        chunk = audio[start:end]\n",
    "        \n",
    "        # Export the chunk as a new file\n",
    "        chunk_name = os.path.join(output_folder, f\"chunk_{i}.wav\")\n",
    "        chunk.export(chunk_name, format=\"wav\")\n",
    "        \n",
    "    # If there is a remaining part of the audio that is less than chunk_length\n",
    "    if total_length % chunk_length != 0:\n",
    "        chunk = audio[number_of_chunks * chunk_length:]\n",
    "        chunk_name = os.path.join(output_folder, f\"chunk_{number_of_chunks}.wav\")\n",
    "        chunk.export(chunk_name, format=\"wav\")\n",
    "        \n",
    "    print(f\"Audio split into {number_of_chunks + 1} chunks of {chunk_length/1000} seconds each.\")\n",
    "\n",
    "# Example usage\n",
    "file_path = \"tahakocer5.wav\"  # Replace with your audio file path\n",
    "output_folder = \"output_chunks\"   # Replace with your desired output folder\n",
    "split_audio(file_path, output_folder)"
   ]
  },
  {
   "cell_type": "code",
   "execution_count": null,
   "id": "4b57808d-c6a4-4de9-a982-58df4f4a98d6",
   "metadata": {},
   "outputs": [],
   "source": []
  }
 ],
 "metadata": {
  "kernelspec": {
   "display_name": "Python 3 (ipykernel)",
   "language": "python",
   "name": "python3"
  },
  "language_info": {
   "codemirror_mode": {
    "name": "ipython",
    "version": 3
   },
   "file_extension": ".py",
   "mimetype": "text/x-python",
   "name": "python",
   "nbconvert_exporter": "python",
   "pygments_lexer": "ipython3",
   "version": "3.11.5"
  }
 },
 "nbformat": 4,
 "nbformat_minor": 5
}
