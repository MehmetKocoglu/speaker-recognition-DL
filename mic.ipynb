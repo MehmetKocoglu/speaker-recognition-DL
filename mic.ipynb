{
 "cells": [
  {
   "cell_type": "code",
   "execution_count": 1,
   "id": "21a0194c-c6dc-4e59-9c2c-ac9536fc8775",
   "metadata": {},
   "outputs": [
    {
     "name": "stderr",
     "output_type": "stream",
     "text": [
      "WARNING:absl:Compiled the loaded model, but the compiled metrics have yet to be built. `model.compile_metrics` will be empty until you train or evaluate the model.\n"
     ]
    },
    {
     "name": "stdout",
     "output_type": "stream",
     "text": [
      "Lütfen konuşun...\n",
      "Kayıt tamamlandı.\n"
     ]
    },
    {
     "ename": "NameError",
     "evalue": "name 'recognizer' is not defined",
     "output_type": "error",
     "traceback": [
      "\u001b[1;31m---------------------------------------------------------------------------\u001b[0m",
      "\u001b[1;31mNameError\u001b[0m                                 Traceback (most recent call last)",
      "Cell \u001b[1;32mIn[1], line 26\u001b[0m\n\u001b[0;32m     24\u001b[0m sd\u001b[38;5;241m.\u001b[39mwait()  \u001b[38;5;66;03m# Ses yakalamanın tamamlanmasını bekleyin\u001b[39;00m\n\u001b[0;32m     25\u001b[0m \u001b[38;5;28mprint\u001b[39m(\u001b[38;5;124m\"\u001b[39m\u001b[38;5;124mKayıt tamamlandı.\u001b[39m\u001b[38;5;124m\"\u001b[39m)\n\u001b[1;32m---> 26\u001b[0m text \u001b[38;5;241m=\u001b[39m recognizer\u001b[38;5;241m.\u001b[39mrecognize_google(sound_signal, language\u001b[38;5;241m=\u001b[39m\u001b[38;5;124m'\u001b[39m\u001b[38;5;124mtr-TR\u001b[39m\u001b[38;5;124m'\u001b[39m)\n\u001b[0;32m     27\u001b[0m \u001b[38;5;28mprint\u001b[39m(\u001b[38;5;124m\"\u001b[39m\u001b[38;5;124mMikrofon Metin:\u001b[39m\u001b[38;5;124m\"\u001b[39m, text)\n\u001b[0;32m     29\u001b[0m \u001b[38;5;66;03m# Ses verisinin özelliklere dönüştürülmesi\u001b[39;00m\n",
      "\u001b[1;31mNameError\u001b[0m: name 'recognizer' is not defined"
     ]
    }
   ],
   "source": [
    "import sounddevice as sd\n",
    "import numpy as np\n",
    "import librosa\n",
    "from tensorflow.keras.models import load_model\n",
    "\n",
    "# Modelin yüklenmesi\n",
    "model = load_model('modelv3.h5')  # Eğitilmiş modelin dosya yolu\n",
    "def extract_features(sound_signal, sample_rate):\n",
    "    mfcc_features = librosa.feature.mfcc(y=sound_signal, sr=sample_rate, n_mfcc=13)\n",
    "    pad_width = 44 - mfcc_features.shape[1]\n",
    "    if pad_width > 0:\n",
    "        mfccs_scaled_features = np.pad(mfcc_features, ((0, 0), (0, pad_width)), mode='constant')\n",
    "    else:\n",
    "        mfccs_scaled_features = mfcc_features[:, :44]  # Gerekiyorsa MFCC'lerin boyutunu kırp\n",
    "    return mfccs_scaled_features.reshape(1, 44, 13)\n",
    "\n",
    "# Mikrofondan ses verisi almak için gerekli parametreler\n",
    "RATE = 44100\n",
    "DURATION = 5  # Kayıt süresi (saniye)\n",
    "\n",
    "# Ses yakalama işlemi\n",
    "print(\"Lütfen konuşun...\")\n",
    "sound_signal = sd.rec(int(DURATION * RATE), samplerate=RATE, channels=1, dtype='float32')\n",
    "sd.wait()  # Ses yakalamanın tamamlanmasını bekleyin\n",
    "print(\"Kayıt tamamlandı.\")\n",
    "\n",
    "# Ses verisinin özelliklere dönüştürülmesi\n",
    "mfccs_scaled_features = extract_features(np.squeeze(sound_signal), RATE)\n",
    "\n",
    "# Modelin kullanılması ve sonucun alınması\n",
    "result_array = model.predict(mfccs_scaled_features)\n",
    "result_classes = ['tahakocer','mehmetkocoglu']\n",
    "\n",
    "# Tahmin edilen sanatçıları ve olasılıklarını gösterme\n",
    "predicted_artist_indices = np.argsort(result_array[0])[::-1]  # Olasılıklara göre sıralanmış tahmin edilen sınıf indisleri\n",
    "\n",
    "print(\"Tahmin edilen sanatçılar ve olasılıkları:\")\n",
    "for index in predicted_artist_indices:\n",
    "    predicted_artist = result_classes[index]\n",
    "    probability = result_array[0][index]\n",
    "    print(f\"{predicted_artist}: {probability:.2f}\")\n"
   ]
  },
  {
   "cell_type": "code",
   "execution_count": null,
   "id": "1e32b853-6072-4585-a1d0-597a269058a5",
   "metadata": {},
   "outputs": [],
   "source": []
  },
  {
   "cell_type": "code",
   "execution_count": null,
   "id": "eb0d8226-04a4-4d56-a08e-b592798f49a5",
   "metadata": {},
   "outputs": [],
   "source": []
  }
 ],
 "metadata": {
  "kernelspec": {
   "display_name": "Python 3 (ipykernel)",
   "language": "python",
   "name": "python3"
  },
  "language_info": {
   "codemirror_mode": {
    "name": "ipython",
    "version": 3
   },
   "file_extension": ".py",
   "mimetype": "text/x-python",
   "name": "python",
   "nbconvert_exporter": "python",
   "pygments_lexer": "ipython3",
   "version": "3.11.5"
  }
 },
 "nbformat": 4,
 "nbformat_minor": 5
}
