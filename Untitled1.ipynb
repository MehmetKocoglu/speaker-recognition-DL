{
 "cells": [
  {
   "cell_type": "code",
   "execution_count": 2,
   "id": "26cb6167-9162-45a2-b280-f23010641fe5",
   "metadata": {},
   "outputs": [
    {
     "name": "stdout",
     "output_type": "stream",
     "text": [
      "Collecting pyaudio\n",
      "  Downloading PyAudio-0.2.14-cp311-cp311-win_amd64.whl.metadata (2.7 kB)\n",
      "Downloading PyAudio-0.2.14-cp311-cp311-win_amd64.whl (164 kB)\n",
      "   ---------------------------------------- 0.0/164.1 kB ? eta -:--:--\n",
      "   -- ------------------------------------- 10.2/164.1 kB ? eta -:--:--\n",
      "   ------- ------------------------------- 30.7/164.1 kB 325.1 kB/s eta 0:00:01\n",
      "   ----------------- --------------------- 71.7/164.1 kB 491.5 kB/s eta 0:00:01\n",
      "   -------------------------------------- 164.1/164.1 kB 894.4 kB/s eta 0:00:00\n",
      "Installing collected packages: pyaudio\n",
      "Successfully installed pyaudio-0.2.14\n",
      "Collecting speechrecognition\n",
      "  Downloading SpeechRecognition-3.10.4-py2.py3-none-any.whl.metadata (28 kB)\n",
      "Requirement already satisfied: requests>=2.26.0 in c:\\users\\memoc\\anaconda3\\lib\\site-packages (from speechrecognition) (2.31.0)\n",
      "Requirement already satisfied: typing-extensions in c:\\users\\memoc\\anaconda3\\lib\\site-packages (from speechrecognition) (4.9.0)\n",
      "Requirement already satisfied: charset-normalizer<4,>=2 in c:\\users\\memoc\\anaconda3\\lib\\site-packages (from requests>=2.26.0->speechrecognition) (2.0.4)\n",
      "Requirement already satisfied: idna<4,>=2.5 in c:\\users\\memoc\\anaconda3\\lib\\site-packages (from requests>=2.26.0->speechrecognition) (3.4)\n",
      "Requirement already satisfied: urllib3<3,>=1.21.1 in c:\\users\\memoc\\anaconda3\\lib\\site-packages (from requests>=2.26.0->speechrecognition) (2.0.7)\n",
      "Requirement already satisfied: certifi>=2017.4.17 in c:\\users\\memoc\\anaconda3\\lib\\site-packages (from requests>=2.26.0->speechrecognition) (2024.2.2)\n",
      "Downloading SpeechRecognition-3.10.4-py2.py3-none-any.whl (32.8 MB)\n",
      "   ---------------------------------------- 0.0/32.8 MB ? eta -:--:--\n",
      "   ---------------------------------------- 0.0/32.8 MB 1.4 MB/s eta 0:00:25\n",
      "   ---------------------------------------- 0.1/32.8 MB 1.4 MB/s eta 0:00:23\n",
      "   ---------------------------------------- 0.2/32.8 MB 1.7 MB/s eta 0:00:19\n",
      "   ---------------------------------------- 0.3/32.8 MB 1.9 MB/s eta 0:00:17\n",
      "    --------------------------------------- 0.7/32.8 MB 3.1 MB/s eta 0:00:11\n",
      "   - -------------------------------------- 1.1/32.8 MB 4.2 MB/s eta 0:00:08\n",
      "   -- ------------------------------------- 1.6/32.8 MB 5.3 MB/s eta 0:00:06\n",
      "   -- ------------------------------------- 2.2/32.8 MB 6.1 MB/s eta 0:00:06\n",
      "   --- ------------------------------------ 2.7/32.8 MB 6.7 MB/s eta 0:00:05\n",
      "   ---- ----------------------------------- 3.3/32.8 MB 7.3 MB/s eta 0:00:05\n",
      "   ---- ----------------------------------- 3.8/32.8 MB 7.7 MB/s eta 0:00:04\n",
      "   ----- ---------------------------------- 4.4/32.8 MB 8.1 MB/s eta 0:00:04\n",
      "   ------ --------------------------------- 5.0/32.8 MB 8.4 MB/s eta 0:00:04\n",
      "   ------ --------------------------------- 5.5/32.8 MB 8.5 MB/s eta 0:00:04\n",
      "   ------- -------------------------------- 6.0/32.8 MB 8.8 MB/s eta 0:00:04\n",
      "   -------- ------------------------------- 6.6/32.8 MB 8.9 MB/s eta 0:00:03\n",
      "   -------- ------------------------------- 7.1/32.8 MB 9.1 MB/s eta 0:00:03\n",
      "   --------- ------------------------------ 7.7/32.8 MB 9.3 MB/s eta 0:00:03\n",
      "   ---------- ----------------------------- 8.2/32.8 MB 9.4 MB/s eta 0:00:03\n",
      "   ---------- ----------------------------- 8.8/32.8 MB 9.7 MB/s eta 0:00:03\n",
      "   ----------- ---------------------------- 9.3/32.8 MB 9.7 MB/s eta 0:00:03\n",
      "   ------------ --------------------------- 9.9/32.8 MB 9.9 MB/s eta 0:00:03\n",
      "   ------------ --------------------------- 10.4/32.8 MB 10.7 MB/s eta 0:00:03\n",
      "   ------------- -------------------------- 11.0/32.8 MB 11.9 MB/s eta 0:00:02\n",
      "   -------------- ------------------------- 11.5/32.8 MB 11.7 MB/s eta 0:00:02\n",
      "   -------------- ------------------------- 12.1/32.8 MB 11.9 MB/s eta 0:00:02\n",
      "   --------------- ------------------------ 12.6/32.8 MB 11.9 MB/s eta 0:00:02\n",
      "   ---------------- ----------------------- 13.2/32.8 MB 11.9 MB/s eta 0:00:02\n",
      "   ---------------- ----------------------- 13.7/32.8 MB 11.9 MB/s eta 0:00:02\n",
      "   ----------------- ---------------------- 14.3/32.8 MB 11.9 MB/s eta 0:00:02\n",
      "   ------------------ --------------------- 14.8/32.8 MB 11.9 MB/s eta 0:00:02\n",
      "   ------------------ --------------------- 15.4/32.8 MB 11.9 MB/s eta 0:00:02\n",
      "   ------------------- -------------------- 15.9/32.8 MB 11.9 MB/s eta 0:00:02\n",
      "   -------------------- ------------------- 16.5/32.8 MB 11.9 MB/s eta 0:00:02\n",
      "   -------------------- ------------------- 17.0/32.8 MB 11.9 MB/s eta 0:00:02\n",
      "   --------------------- ------------------ 17.6/32.8 MB 11.9 MB/s eta 0:00:02\n",
      "   ---------------------- ----------------- 18.2/32.8 MB 11.9 MB/s eta 0:00:02\n",
      "   ---------------------- ----------------- 18.7/32.8 MB 11.9 MB/s eta 0:00:02\n",
      "   ----------------------- ---------------- 19.3/32.8 MB 11.9 MB/s eta 0:00:02\n",
      "   ------------------------ --------------- 19.8/32.8 MB 11.9 MB/s eta 0:00:02\n",
      "   ------------------------ --------------- 20.3/32.8 MB 11.9 MB/s eta 0:00:02\n",
      "   ------------------------- -------------- 20.9/32.8 MB 11.9 MB/s eta 0:00:02\n",
      "   -------------------------- ------------- 21.4/32.8 MB 11.9 MB/s eta 0:00:01\n",
      "   -------------------------- ------------- 22.0/32.8 MB 11.9 MB/s eta 0:00:01\n",
      "   --------------------------- ------------ 22.6/32.8 MB 11.9 MB/s eta 0:00:01\n",
      "   ---------------------------- ----------- 23.1/32.8 MB 11.9 MB/s eta 0:00:01\n",
      "   ---------------------------- ----------- 23.7/32.8 MB 11.9 MB/s eta 0:00:01\n",
      "   ----------------------------- ---------- 24.2/32.8 MB 11.9 MB/s eta 0:00:01\n",
      "   ------------------------------ --------- 24.8/32.8 MB 11.9 MB/s eta 0:00:01\n",
      "   ------------------------------ --------- 25.4/32.8 MB 11.9 MB/s eta 0:00:01\n",
      "   ------------------------------- -------- 25.9/32.8 MB 11.9 MB/s eta 0:00:01\n",
      "   -------------------------------- ------- 26.5/32.8 MB 11.9 MB/s eta 0:00:01\n",
      "   -------------------------------- ------- 27.0/32.8 MB 11.9 MB/s eta 0:00:01\n",
      "   --------------------------------- ------ 27.5/32.8 MB 11.9 MB/s eta 0:00:01\n",
      "   ---------------------------------- ----- 28.1/32.8 MB 11.9 MB/s eta 0:00:01\n",
      "   ---------------------------------- ----- 28.7/32.8 MB 11.9 MB/s eta 0:00:01\n",
      "   ----------------------------------- ---- 29.2/32.8 MB 11.9 MB/s eta 0:00:01\n",
      "   ------------------------------------ --- 29.7/32.8 MB 11.9 MB/s eta 0:00:01\n",
      "   ------------------------------------ --- 30.3/32.8 MB 11.9 MB/s eta 0:00:01\n",
      "   ------------------------------------- -- 30.8/32.8 MB 11.9 MB/s eta 0:00:01\n",
      "   -------------------------------------- - 31.4/32.8 MB 11.9 MB/s eta 0:00:01\n",
      "   -------------------------------------- - 31.9/32.8 MB 11.9 MB/s eta 0:00:01\n",
      "   ---------------------------------------  32.5/32.8 MB 11.9 MB/s eta 0:00:01\n",
      "   ---------------------------------------  32.8/32.8 MB 11.7 MB/s eta 0:00:01\n",
      "   ---------------------------------------- 32.8/32.8 MB 11.3 MB/s eta 0:00:00\n",
      "Installing collected packages: speechrecognition\n",
      "Successfully installed speechrecognition-3.10.4\n"
     ]
    }
   ],
   "source": [
    "!pip install pyaudio\n",
    "!pip install speechrecognition"
   ]
  },
  {
   "cell_type": "code",
   "execution_count": 18,
   "id": "8bde68d8-b4df-43ed-87ad-82c4b231ed4d",
   "metadata": {},
   "outputs": [
    {
     "name": "stdout",
     "output_type": "stream",
     "text": [
      "Collecting sounddevice\n",
      "  Downloading sounddevice-0.4.6-py3-none-win_amd64.whl.metadata (1.4 kB)\n",
      "Requirement already satisfied: CFFI>=1.0 in c:\\users\\memoc\\anaconda3\\lib\\site-packages (from sounddevice) (1.16.0)\n",
      "Requirement already satisfied: pycparser in c:\\users\\memoc\\anaconda3\\lib\\site-packages (from CFFI>=1.0->sounddevice) (2.21)\n",
      "Downloading sounddevice-0.4.6-py3-none-win_amd64.whl (199 kB)\n",
      "   ---------------------------------------- 0.0/199.7 kB ? eta -:--:--\n",
      "   -- ------------------------------------- 10.2/199.7 kB ? eta -:--:--\n",
      "   ----- --------------------------------- 30.7/199.7 kB 325.1 kB/s eta 0:00:01\n",
      "   ----------- --------------------------- 61.4/199.7 kB 465.5 kB/s eta 0:00:01\n",
      "   ----------------------------- -------- 153.6/199.7 kB 913.1 kB/s eta 0:00:01\n",
      "   ---------------------------------------- 199.7/199.7 kB 1.0 MB/s eta 0:00:00\n",
      "Installing collected packages: sounddevice\n",
      "Successfully installed sounddevice-0.4.6\n"
     ]
    }
   ],
   "source": [
    "!pip install sounddevice"
   ]
  },
  {
   "cell_type": "code",
   "execution_count": 62,
   "id": "a066869a-ee30-4cd3-b239-a7092c6ca50f",
   "metadata": {},
   "outputs": [
    {
     "name": "stderr",
     "output_type": "stream",
     "text": [
      "WARNING:absl:Compiled the loaded model, but the compiled metrics have yet to be built. `model.compile_metrics` will be empty until you train or evaluate the model.\n"
     ]
    },
    {
     "name": "stdout",
     "output_type": "stream",
     "text": [
      "Lütfen konuşun...\n",
      "Kayıt tamamlandı.\n",
      "\u001b[1m1/1\u001b[0m \u001b[32m━━━━━━━━━━━━━━━━━━━━\u001b[0m\u001b[37m\u001b[0m \u001b[1m0s\u001b[0m 162ms/step\n",
      "Tahmin: Sınıf 1\n"
     ]
    }
   ],
   "source": [
    "import numpy as np\n",
    "import sounddevice as sd\n",
    "import librosa\n",
    "\n",
    "# Modelinizi yükleyin\n",
    "from tensorflow.keras.models import load_model\n",
    "model_path = 'model.h5'\n",
    "model = load_model(model_path)\n",
    "\n",
    "# Mikrofondan ses almak için gerekli parametreleri ayarlayın\n",
    "duration = 5  # kayıt süresi (saniye)\n",
    "sample_rate = 44100  # örnekleme frekansı (Hz)\n",
    "\n",
    "# Ses kaydı\n",
    "print(\"Lütfen konuşun...\")\n",
    "audio = sd.rec(int(duration * sample_rate), samplerate=sample_rate, channels=1, dtype='float32')\n",
    "sd.wait()\n",
    "print(\"Kayıt tamamlandı.\")\n",
    "\n",
    "# Ses verisini uygun özellik vektörlerine dönüştürme\n",
    "audio_features = librosa.feature.mfcc(y=np.squeeze(audio), sr=sample_rate, n_mfcc=13)\n",
    "audio_features = audio_features[np.newaxis, ..., np.newaxis]\n",
    "\n",
    "# Modelinize ses verisini verme\n",
    "audio_features_resized = np.resize(audio_features, (1, 216, 13))\n",
    "\n",
    "# Modelinize ses verisini verme\n",
    "predictions = model.predict(audio_features_resized)\n",
    "\n",
    "# Tahmin sonuçlarını görüntüleme\n",
    "if predictions[0, 0] > predictions[0, 1]:\n",
    "    print(\"Tahmin: Sınıf 1\")\n",
    "else:\n",
    "    print(\"Tahmin: Sınıf 2\")"
   ]
  },
  {
   "cell_type": "code",
   "execution_count": null,
   "id": "4078644c-2bb9-486d-a140-bca18bef7bd3",
   "metadata": {},
   "outputs": [],
   "source": []
  }
 ],
 "metadata": {
  "kernelspec": {
   "display_name": "Python 3 (ipykernel)",
   "language": "python",
   "name": "python3"
  },
  "language_info": {
   "codemirror_mode": {
    "name": "ipython",
    "version": 3
   },
   "file_extension": ".py",
   "mimetype": "text/x-python",
   "name": "python",
   "nbconvert_exporter": "python",
   "pygments_lexer": "ipython3",
   "version": "3.11.5"
  }
 },
 "nbformat": 4,
 "nbformat_minor": 5
}
